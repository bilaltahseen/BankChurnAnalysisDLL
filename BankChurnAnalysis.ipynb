{
 "cells": [
  {
   "cell_type": "code",
   "execution_count": 145,
   "metadata": {},
   "outputs": [],
   "source": [
    "import pandas as pd\n",
    "import numpy as np \n",
    "import tensorflow as tf\n",
    "from tensorflow.keras.utils import to_categorical\n",
    "from sklearn.preprocessing import normalize as normalizer\n",
    "from sklearn.model_selection import train_test_split"
   ]
  },
  {
   "cell_type": "code",
   "execution_count": 146,
   "metadata": {},
   "outputs": [
    {
     "data": {
      "text/html": [
       "<div>\n",
       "<style scoped>\n",
       "    .dataframe tbody tr th:only-of-type {\n",
       "        vertical-align: middle;\n",
       "    }\n",
       "\n",
       "    .dataframe tbody tr th {\n",
       "        vertical-align: top;\n",
       "    }\n",
       "\n",
       "    .dataframe thead th {\n",
       "        text-align: right;\n",
       "    }\n",
       "</style>\n",
       "<table border=\"1\" class=\"dataframe\">\n",
       "  <thead>\n",
       "    <tr style=\"text-align: right;\">\n",
       "      <th></th>\n",
       "      <th>RowNumber</th>\n",
       "      <th>CustomerId</th>\n",
       "      <th>Surname</th>\n",
       "      <th>CreditScore</th>\n",
       "      <th>Geography</th>\n",
       "      <th>Gender</th>\n",
       "      <th>Age</th>\n",
       "      <th>Tenure</th>\n",
       "      <th>Balance</th>\n",
       "      <th>NumOfProducts</th>\n",
       "      <th>HasCrCard</th>\n",
       "      <th>IsActiveMember</th>\n",
       "      <th>EstimatedSalary</th>\n",
       "      <th>Exited</th>\n",
       "    </tr>\n",
       "  </thead>\n",
       "  <tbody>\n",
       "    <tr>\n",
       "      <th>0</th>\n",
       "      <td>1</td>\n",
       "      <td>15634602</td>\n",
       "      <td>Hargrave</td>\n",
       "      <td>619</td>\n",
       "      <td>France</td>\n",
       "      <td>Female</td>\n",
       "      <td>42</td>\n",
       "      <td>2</td>\n",
       "      <td>0.00</td>\n",
       "      <td>1</td>\n",
       "      <td>1</td>\n",
       "      <td>1</td>\n",
       "      <td>101348.88</td>\n",
       "      <td>1</td>\n",
       "    </tr>\n",
       "    <tr>\n",
       "      <th>1</th>\n",
       "      <td>2</td>\n",
       "      <td>15647311</td>\n",
       "      <td>Hill</td>\n",
       "      <td>608</td>\n",
       "      <td>Spain</td>\n",
       "      <td>Female</td>\n",
       "      <td>41</td>\n",
       "      <td>1</td>\n",
       "      <td>83807.86</td>\n",
       "      <td>1</td>\n",
       "      <td>0</td>\n",
       "      <td>1</td>\n",
       "      <td>112542.58</td>\n",
       "      <td>0</td>\n",
       "    </tr>\n",
       "    <tr>\n",
       "      <th>2</th>\n",
       "      <td>3</td>\n",
       "      <td>15619304</td>\n",
       "      <td>Onio</td>\n",
       "      <td>502</td>\n",
       "      <td>France</td>\n",
       "      <td>Female</td>\n",
       "      <td>42</td>\n",
       "      <td>8</td>\n",
       "      <td>159660.80</td>\n",
       "      <td>3</td>\n",
       "      <td>1</td>\n",
       "      <td>0</td>\n",
       "      <td>113931.57</td>\n",
       "      <td>1</td>\n",
       "    </tr>\n",
       "    <tr>\n",
       "      <th>3</th>\n",
       "      <td>4</td>\n",
       "      <td>15701354</td>\n",
       "      <td>Boni</td>\n",
       "      <td>699</td>\n",
       "      <td>France</td>\n",
       "      <td>Female</td>\n",
       "      <td>39</td>\n",
       "      <td>1</td>\n",
       "      <td>0.00</td>\n",
       "      <td>2</td>\n",
       "      <td>0</td>\n",
       "      <td>0</td>\n",
       "      <td>93826.63</td>\n",
       "      <td>0</td>\n",
       "    </tr>\n",
       "    <tr>\n",
       "      <th>4</th>\n",
       "      <td>5</td>\n",
       "      <td>15737888</td>\n",
       "      <td>Mitchell</td>\n",
       "      <td>850</td>\n",
       "      <td>Spain</td>\n",
       "      <td>Female</td>\n",
       "      <td>43</td>\n",
       "      <td>2</td>\n",
       "      <td>125510.82</td>\n",
       "      <td>1</td>\n",
       "      <td>1</td>\n",
       "      <td>1</td>\n",
       "      <td>79084.10</td>\n",
       "      <td>0</td>\n",
       "    </tr>\n",
       "  </tbody>\n",
       "</table>\n",
       "</div>"
      ],
      "text/plain": [
       "   RowNumber  CustomerId   Surname  CreditScore Geography  Gender  Age  \\\n",
       "0          1    15634602  Hargrave          619    France  Female   42   \n",
       "1          2    15647311      Hill          608     Spain  Female   41   \n",
       "2          3    15619304      Onio          502    France  Female   42   \n",
       "3          4    15701354      Boni          699    France  Female   39   \n",
       "4          5    15737888  Mitchell          850     Spain  Female   43   \n",
       "\n",
       "   Tenure    Balance  NumOfProducts  HasCrCard  IsActiveMember  \\\n",
       "0       2       0.00              1          1               1   \n",
       "1       1   83807.86              1          0               1   \n",
       "2       8  159660.80              3          1               0   \n",
       "3       1       0.00              2          0               0   \n",
       "4       2  125510.82              1          1               1   \n",
       "\n",
       "   EstimatedSalary  Exited  \n",
       "0        101348.88       1  \n",
       "1        112542.58       0  \n",
       "2        113931.57       1  \n",
       "3         93826.63       0  \n",
       "4         79084.10       0  "
      ]
     },
     "execution_count": 146,
     "metadata": {},
     "output_type": "execute_result"
    }
   ],
   "source": [
    "df = pd.read_csv('Churn_Modelling.csv')\n",
    "df.head()"
   ]
  },
  {
   "cell_type": "code",
   "execution_count": 147,
   "metadata": {},
   "outputs": [],
   "source": [
    "filtered_df = df.drop(labels=['RowNumber','CustomerId','Surname'],axis=1,inplace=True)"
   ]
  },
  {
   "cell_type": "code",
   "execution_count": 148,
   "metadata": {},
   "outputs": [],
   "source": [
    "y=df['Exited']\n",
    "X=df.drop(labels='Exited',axis=1)"
   ]
  },
  {
   "cell_type": "code",
   "execution_count": 149,
   "metadata": {},
   "outputs": [],
   "source": [
    "encoded_y=y.to_numpy().astype('float64')"
   ]
  },
  {
   "cell_type": "code",
   "execution_count": 150,
   "metadata": {},
   "outputs": [],
   "source": [
    "encoded_Georaphy=pd.get_dummies(X['Geography'])"
   ]
  },
  {
   "cell_type": "code",
   "execution_count": 151,
   "metadata": {},
   "outputs": [],
   "source": [
    "encoded_Gender=pd.get_dummies(X['Gender'])"
   ]
  },
  {
   "cell_type": "code",
   "execution_count": 152,
   "metadata": {},
   "outputs": [],
   "source": [
    "X.drop(labels=['Geography','Gender'],axis=1,inplace=True)"
   ]
  },
  {
   "cell_type": "code",
   "execution_count": 153,
   "metadata": {},
   "outputs": [],
   "source": [
    "frames = [X,encoded_Georaphy,encoded_Gender]"
   ]
  },
  {
   "cell_type": "code",
   "execution_count": 154,
   "metadata": {},
   "outputs": [],
   "source": [
    "engg_datgaframe=pd.concat(frames,sort=False,axis=1)"
   ]
  },
  {
   "cell_type": "code",
   "execution_count": 155,
   "metadata": {},
   "outputs": [],
   "source": [
    "numpy_array=engg_datgaframe.to_numpy()"
   ]
  },
  {
   "cell_type": "code",
   "execution_count": 156,
   "metadata": {},
   "outputs": [],
   "source": [
    "normalized_dataset=normalizer(numpy_array,axis=1)"
   ]
  },
  {
   "cell_type": "code",
   "execution_count": 157,
   "metadata": {},
   "outputs": [],
   "source": [
    "#Train Test Spliting"
   ]
  },
  {
   "cell_type": "code",
   "execution_count": 158,
   "metadata": {},
   "outputs": [],
   "source": [
    "X_train, X_test, y_train, y_test = train_test_split(normalized_dataset, encoded_y, test_size=0.30, random_state=10)"
   ]
  },
  {
   "cell_type": "code",
   "execution_count": 159,
   "metadata": {},
   "outputs": [
    {
     "name": "stdout",
     "output_type": "stream",
     "text": [
      "\n",
      "Traing Size=(7000, 13)\n",
      "Testing Size=(3000, 13)\n",
      "Labels_train Size=(7000,)\n",
      "Labels_test Size=(3000,)\n",
      "\n"
     ]
    }
   ],
   "source": [
    "print(f'''\n",
    "Traing Size={X_train.shape}\n",
    "Testing Size={X_test.shape}\n",
    "Labels_train Size={y_train.shape}\n",
    "Labels_test Size={y_test.shape}\n",
    "''')"
   ]
  },
  {
   "cell_type": "code",
   "execution_count": 160,
   "metadata": {},
   "outputs": [],
   "source": [
    "# Model architecture"
   ]
  },
  {
   "cell_type": "code",
   "execution_count": 161,
   "metadata": {},
   "outputs": [],
   "source": [
    "network = tf.keras.Sequential()\n",
    "network.add(Dense(1024,activation='relu',input_shape=(13,)))\n",
    "network.add(Dense(512,activation='relu'))\n",
    "network.add(Dense(1,activation='sigmoid'))\n",
    "network.compile(loss='binary_crossentropy',optimizer='adam', metrics=['accuracy'])"
   ]
  },
  {
   "cell_type": "code",
   "execution_count": 162,
   "metadata": {},
   "outputs": [
    {
     "name": "stdout",
     "output_type": "stream",
     "text": [
      "Train on 4900 samples, validate on 2100 samples\n",
      "Epoch 1/20\n",
      "4900/4900 [==============================] - 3s 643us/sample - loss: 0.5064 - accuracy: 0.7922 - val_loss: 0.4874 - val_accuracy: 0.8052\n",
      "Epoch 2/20\n",
      "4900/4900 [==============================] - 3s 553us/sample - loss: 0.5039 - accuracy: 0.7943 - val_loss: 0.4868 - val_accuracy: 0.8052\n",
      "Epoch 3/20\n",
      "4900/4900 [==============================] - 3s 560us/sample - loss: 0.5035 - accuracy: 0.7943 - val_loss: 0.4905 - val_accuracy: 0.8052\n",
      "Epoch 4/20\n",
      "4900/4900 [==============================] - 3s 548us/sample - loss: 0.5011 - accuracy: 0.7943 - val_loss: 0.4976 - val_accuracy: 0.8052\n",
      "Epoch 5/20\n",
      "4900/4900 [==============================] - 3s 550us/sample - loss: 0.5011 - accuracy: 0.7943 - val_loss: 0.4946 - val_accuracy: 0.8052\n",
      "Epoch 6/20\n",
      "4900/4900 [==============================] - 3s 558us/sample - loss: 0.5015 - accuracy: 0.7943 - val_loss: 0.4906 - val_accuracy: 0.8052\n",
      "Epoch 7/20\n",
      "4900/4900 [==============================] - 3s 553us/sample - loss: 0.5007 - accuracy: 0.7943 - val_loss: 0.4883 - val_accuracy: 0.8052\n",
      "Epoch 8/20\n",
      "4900/4900 [==============================] - 3s 566us/sample - loss: 0.5012 - accuracy: 0.7943 - val_loss: 0.4923 - val_accuracy: 0.8052\n",
      "Epoch 9/20\n",
      "4900/4900 [==============================] - 3s 556us/sample - loss: 0.4999 - accuracy: 0.7943 - val_loss: 0.4883 - val_accuracy: 0.8052\n",
      "Epoch 10/20\n",
      "4900/4900 [==============================] - 3s 581us/sample - loss: 0.5002 - accuracy: 0.7943 - val_loss: 0.4879 - val_accuracy: 0.8052\n",
      "Epoch 11/20\n",
      "4900/4900 [==============================] - 3s 610us/sample - loss: 0.5005 - accuracy: 0.7943 - val_loss: 0.4882 - val_accuracy: 0.8052\n",
      "Epoch 12/20\n",
      "4900/4900 [==============================] - 3s 557us/sample - loss: 0.4998 - accuracy: 0.7943 - val_loss: 0.4898 - val_accuracy: 0.8052\n",
      "Epoch 13/20\n",
      "4900/4900 [==============================] - 3s 567us/sample - loss: 0.5011 - accuracy: 0.7943 - val_loss: 0.4912 - val_accuracy: 0.8052\n",
      "Epoch 14/20\n",
      "4900/4900 [==============================] - 3s 556us/sample - loss: 0.5009 - accuracy: 0.7943 - val_loss: 0.4906 - val_accuracy: 0.8052\n",
      "Epoch 15/20\n",
      "4900/4900 [==============================] - 3s 558us/sample - loss: 0.4992 - accuracy: 0.7943 - val_loss: 0.4938 - val_accuracy: 0.8052\n",
      "Epoch 16/20\n",
      "4900/4900 [==============================] - 3s 556us/sample - loss: 0.4995 - accuracy: 0.7943 - val_loss: 0.4913 - val_accuracy: 0.8052\n",
      "Epoch 17/20\n",
      "4900/4900 [==============================] - 3s 547us/sample - loss: 0.4986 - accuracy: 0.7943 - val_loss: 0.4903 - val_accuracy: 0.8052\n",
      "Epoch 18/20\n",
      "4900/4900 [==============================] - 3s 547us/sample - loss: 0.4993 - accuracy: 0.7943 - val_loss: 0.4926 - val_accuracy: 0.8052\n",
      "Epoch 19/20\n",
      "4900/4900 [==============================] - 3s 553us/sample - loss: 0.4979 - accuracy: 0.7943 - val_loss: 0.4967 - val_accuracy: 0.8052\n",
      "Epoch 20/20\n",
      "4900/4900 [==============================] - 3s 550us/sample - loss: 0.5007 - accuracy: 0.7943 - val_loss: 0.4890 - val_accuracy: 0.8052\n"
     ]
    },
    {
     "data": {
      "text/plain": [
       "<tensorflow.python.keras.callbacks.History at 0x913ec92a88>"
      ]
     },
     "execution_count": 162,
     "metadata": {},
     "output_type": "execute_result"
    }
   ],
   "source": [
    "network.fit(X_train,y_train,epochs=20,batch_size=20,validation_split=0.3,verbose=1)"
   ]
  },
  {
   "cell_type": "code",
   "execution_count": 163,
   "metadata": {},
   "outputs": [
    {
     "data": {
      "text/plain": [
       "[0.5117853110631307, 0.79333335]"
      ]
     },
     "execution_count": 163,
     "metadata": {},
     "output_type": "execute_result"
    }
   ],
   "source": [
    "network.evaluate(X_test,y_test,verbose=0)"
   ]
  },
  {
   "cell_type": "code",
   "execution_count": null,
   "metadata": {},
   "outputs": [],
   "source": []
  }
 ],
 "metadata": {
  "kernelspec": {
   "display_name": "Python 3",
   "language": "python",
   "name": "python3"
  },
  "language_info": {
   "codemirror_mode": {
    "name": "ipython",
    "version": 3
   },
   "file_extension": ".py",
   "mimetype": "text/x-python",
   "name": "python",
   "nbconvert_exporter": "python",
   "pygments_lexer": "ipython3",
   "version": "3.7.5"
  }
 },
 "nbformat": 4,
 "nbformat_minor": 2
}
